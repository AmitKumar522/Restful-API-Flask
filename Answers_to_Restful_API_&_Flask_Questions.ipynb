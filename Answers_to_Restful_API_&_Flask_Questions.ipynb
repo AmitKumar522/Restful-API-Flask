{
  "nbformat": 4,
  "nbformat_minor": 0,
  "metadata": {
    "colab": {
      "provenance": []
    },
    "kernelspec": {
      "name": "python3",
      "display_name": "Python 3"
    },
    "language_info": {
      "name": "python"
    }
  },
  "cells": [
    {
      "cell_type": "markdown",
      "source": [
        "\n",
        "\n",
        "**Answers to Restful API & Flask Questions**\n",
        "---\n",
        "---\n",
        "\n",
        "✅ THEORY QUESTIONS & ANSWERS"
      ],
      "metadata": {
        "id": "5By0WW9O4Ctq"
      }
    },
    {
      "cell_type": "markdown",
      "source": [
        "1. What is a RESTful API?\n",
        "\n",
        "  A RESTful API is an interface that allows different software systems to communicate over the internet using HTTP methods by following REST principles.\n",
        "\n",
        "---\n",
        "2. Explain the concept of API specification.\n",
        "\n",
        "  API specification defines the rules and structure for how clients can interact with an API, including endpoints, methods, request formats, and expected responses.\n",
        "\n",
        "---\n",
        "3. What is Flask, and why is it popular for building APIs?\n",
        "\n",
        "  Flask is a lightweight Python web framework used to build web applications and APIs. It's popular due to its simplicity, flexibility, and minimal setup.\n",
        "\n",
        "---\n",
        "4.  What is routing in Flask?\n",
        "   \n",
        "  Routing in Flask maps URL paths to specific functions, allowing the app to respond differently to different URLs.\n",
        "\n",
        "---\n",
        "5. What are HTTP methods used in RESTful APIs?\n",
        "\n",
        "  Common HTTP methods include GET, POST, PUT, DELETE, and PATCH, used to perform operations like reading, creating, updating, and deleting resources."
      ],
      "metadata": {
        "id": "seUbXE15JxyT"
      }
    },
    {
      "cell_type": "markdown",
      "source": [
        "---\n",
        " 6. What are HTTP methods used in RESTful APIs?\n",
        "\n",
        " The main HTTP methods are GET (retrieve), POST (create), PUT (update/replace), PATCH (partial update), and DELETE (remove).\n",
        "---\n",
        " 7. What is the purpose of the @app.route() decorator in Flask?\n",
        "\n",
        " The @app.route() decorator binds a URL pattern to a view function, specifying what code should run when that URL is requested.\n",
        "---\n",
        " 8. What is the difference between GET and POST HTTP methods?\n",
        "\n",
        " GET requests retrieve data and are idempotent (repeating doesn't change state), while POST requests submit data to create or update resources and are not idempotent.\n",
        "---\n",
        " 9. How do you handle errors in Flask APIs?\n",
        "\n",
        " Using error handlers like @app.errorhandler() decorator or by raising HTTPException with appropriate status codes.\n",
        "---\n",
        " 10. How do you connect Flask to a SQL database\n",
        "\n",
        " It provides a high-level ORM (Object Relational Mapper) that allows interaction with the database using Python objects instead of SQL queries.\n",
        "\n",
        "\n",
        "\n",
        "\n",
        "\n",
        "\n"
      ],
      "metadata": {
        "id": "jhW6YmQD96KV"
      }
    },
    {
      "cell_type": "code",
      "source": [
        "!pip install Flask Flask-SQLAlchemy\n"
      ],
      "metadata": {
        "colab": {
          "base_uri": "https://localhost:8080/"
        },
        "id": "bZi2j2W4K9kx",
        "outputId": "69d84db0-ab9e-4070-9267-07a6f84437a5"
      },
      "execution_count": 1,
      "outputs": [
        {
          "output_type": "stream",
          "name": "stdout",
          "text": [
            "Requirement already satisfied: Flask in /usr/local/lib/python3.11/dist-packages (3.1.0)\n",
            "Collecting Flask-SQLAlchemy\n",
            "  Downloading flask_sqlalchemy-3.1.1-py3-none-any.whl.metadata (3.4 kB)\n",
            "Requirement already satisfied: Werkzeug>=3.1 in /usr/local/lib/python3.11/dist-packages (from Flask) (3.1.3)\n",
            "Requirement already satisfied: Jinja2>=3.1.2 in /usr/local/lib/python3.11/dist-packages (from Flask) (3.1.6)\n",
            "Requirement already satisfied: itsdangerous>=2.2 in /usr/local/lib/python3.11/dist-packages (from Flask) (2.2.0)\n",
            "Requirement already satisfied: click>=8.1.3 in /usr/local/lib/python3.11/dist-packages (from Flask) (8.1.8)\n",
            "Requirement already satisfied: blinker>=1.9 in /usr/local/lib/python3.11/dist-packages (from Flask) (1.9.0)\n",
            "Requirement already satisfied: sqlalchemy>=2.0.16 in /usr/local/lib/python3.11/dist-packages (from Flask-SQLAlchemy) (2.0.40)\n",
            "Requirement already satisfied: MarkupSafe>=2.0 in /usr/local/lib/python3.11/dist-packages (from Jinja2>=3.1.2->Flask) (3.0.2)\n",
            "Requirement already satisfied: greenlet>=1 in /usr/local/lib/python3.11/dist-packages (from sqlalchemy>=2.0.16->Flask-SQLAlchemy) (3.2.1)\n",
            "Requirement already satisfied: typing-extensions>=4.6.0 in /usr/local/lib/python3.11/dist-packages (from sqlalchemy>=2.0.16->Flask-SQLAlchemy) (4.13.2)\n",
            "Downloading flask_sqlalchemy-3.1.1-py3-none-any.whl (25 kB)\n",
            "Installing collected packages: Flask-SQLAlchemy\n",
            "Successfully installed Flask-SQLAlchemy-3.1.1\n"
          ]
        }
      ]
    },
    {
      "cell_type": "code",
      "source": [
        "from flask import Flask\n",
        "from flask_sqlalchemy import SQLAlchemy\n",
        "\n",
        "# Create Flask app\n",
        "app = Flask(__name__)\n",
        "\n",
        "# Database configuration (SQLite in this example)\n",
        "app.config['SQLALCHEMY_DATABASE_URI'] = 'sqlite:///mydatabase.db'\n",
        "app.config['SQLALCHEMY_TRACK_MODIFICATIONS'] = False\n",
        "\n",
        "# Initialize database\n",
        "db = SQLAlchemy(app)\n",
        "\n",
        "# Define a table model\n",
        "class User(db.Model):\n",
        "    id = db.Column(db.Integer, primary_key=True)\n",
        "    name = db.Column(db.String(80), nullable=False)\n",
        "\n",
        "# Create the database tables\n",
        "with app.app_context():\n",
        "    db.create_all()\n",
        "\n",
        "@app.route('/')\n",
        "def index():\n",
        "    return \"Database connected successfully!\"\n",
        "\n",
        "# Run the app\n",
        "if __name__ == '__main__':\n",
        "    app.run(debug=True)\n"
      ],
      "metadata": {
        "colab": {
          "base_uri": "https://localhost:8080/"
        },
        "id": "vs9a1RJ_LDiM",
        "outputId": "a0c62b14-d858-43b1-82ae-e564f9cf12f4"
      },
      "execution_count": 3,
      "outputs": [
        {
          "output_type": "stream",
          "name": "stdout",
          "text": [
            " * Serving Flask app '__main__'\n",
            " * Debug mode: on\n"
          ]
        },
        {
          "output_type": "stream",
          "name": "stderr",
          "text": [
            "INFO:werkzeug:\u001b[31m\u001b[1mWARNING: This is a development server. Do not use it in a production deployment. Use a production WSGI server instead.\u001b[0m\n",
            " * Running on http://127.0.0.1:5000\n",
            "INFO:werkzeug:\u001b[33mPress CTRL+C to quit\u001b[0m\n",
            "INFO:werkzeug: * Restarting with stat\n"
          ]
        }
      ]
    },
    {
      "cell_type": "markdown",
      "source": [
        "---\n",
        " 11. What is the role of Flask-SQLAlchemy?\n",
        "\n",
        " Flask-SQLAlchemy is an extension that adds SQLAlchemy support to Flask, providing ORM capabilities, database session management, and integration with Flask's application context.\n",
        "\n",
        " ---\n",
        "\n",
        " 12. What are Flask blueprints, and how are they useful?\n",
        "\n",
        " Blueprints are a way to organize Flask applications into reusable components. They help in modularizing large applications, enabling code organization and separation of concerns.\n",
        "\n",
        " ---\n",
        "\n",
        " 13. What is the purpose of Flask's request object?\n",
        "\n",
        " The request object contains all the data sent by the client in an HTTP request, including form data, query parameters, headers, and files.\n",
        "\n",
        " ---\n",
        "\n",
        " 14. How do you create a RESTful API endpoint using Flask?\n",
        "\n"
      ],
      "metadata": {
        "id": "qQXb7JH3FpAH"
      }
    },
    {
      "cell_type": "code",
      "source": [
        "!pip install flask flask-ngrok\n",
        "\n",
        "from flask import Flask, request, jsonify\n",
        "from flask_ngrok import run_with_ngrok\n",
        "\n",
        "# Create a Flask app\n",
        "app = Flask(__name__)\n",
        "\n",
        "# Initialize ngrok (this will expose the app to a public URL)\n",
        "run_with_ngrok(app)\n",
        "\n",
        "# Sample data: List of books\n",
        "books = [\n",
        "    {\"id\": 1, \"title\": \"1984\", \"author\": \"George Orwell\"},\n",
        "    {\"id\": 2, \"title\": \"To Kill a Mockingbird\", \"author\": \"Harper Lee\"}\n",
        "]\n",
        "\n",
        "# GET route: Retrieve all books\n",
        "@app.route('/books', methods=['GET'])\n",
        "def get_books():\n",
        "    return jsonify(books)\n",
        "\n",
        "# POST route: Add a new book\n",
        "@app.route('/books', methods=['POST'])\n",
        "def add_book():\n",
        "    new_book = request.get_json()  # Get the JSON data from the request\n",
        "    new_book[\"id\"] = len(books) + 1  # Assign an ID for the new book\n",
        "    books.append(new_book)  # Add the new book to the list\n",
        "    return jsonify(new_book), 201  # Return the new book with a 201 status code\n",
        "\n",
        "# Run the app\n",
        "if __name__ == \"__main__\":\n",
        "    app.run()\n"
      ],
      "metadata": {
        "id": "J8Dmq7TbGWvW"
      },
      "execution_count": null,
      "outputs": []
    },
    {
      "cell_type": "markdown",
      "source": [
        " ---\n",
        " 15. What is the purpose of Flask's jsonify() function?\n",
        "\n",
        " jsonify() converts Python dictionaries or objects to JSON responses with the correct Content-Type header.\n",
        "\n",
        " ---\n",
        " 16. Explain Flask’s url_for() function.\n",
        "\n",
        " url_for() generates URLs for routes based on their view function names, helping avoid hardcoding URLs and making the application more maintainable.\n",
        "\n",
        " ---\n",
        "\n",
        " 17. How does Flask handle static files (CSS, JavaScript, etc.)?\n",
        "\n",
        " Flask serves static files from a /static folder by default. Files can be accessed via /static/filename or using url_for('static', filename='style.css').\n",
        "\n",
        "---\n",
        "\n",
        "18. What is an API specification, and how does it help in building a Flask API?\n",
        "\n",
        " An API specification documents the API's structure and behavior. It helps by providing a clear contract for development, enabling testing, and facilitating client integration.\n",
        "\n",
        " ---\n",
        "19. What are HTTP status codes, and why are they important in a Flask API?\n",
        "\n",
        "  HTTP status codes indicate request outcomes (200 OK, 404 Not Found, etc.). They're important for proper API communication and error handling.\n",
        "\n",
        "20. How do you handle POST requests in Flask?\n",
        "  \n",
        "   🔢 Example: Handling a POST request that sends JSON data\n",
        "\n",
        "\n",
        "\n",
        "\n",
        "\n"
      ],
      "metadata": {
        "id": "IYhpltDIIeNf"
      }
    },
    {
      "cell_type": "code",
      "source": [
        "from flask import Flask, request, jsonify\n",
        "\n",
        "app = Flask(__name__)\n",
        "\n",
        "@app.route('/submit', methods=['POST'])\n",
        "def submit():\n",
        "    data = request.get_json()  # Get JSON data from request\n",
        "    name = data.get('name')\n",
        "    age = data.get('age')\n",
        "    return jsonify({\"message\": f\"Received data for {name}, age {age}.\"})\n",
        "\n",
        "if __name__ == '__main__':\n",
        "    app.run(debug=True)\n",
        "\n",
        "    #📬 How to Send a POST Request\n",
        "\n",
        "{\n",
        "  \"name\": \"Alice\",\n",
        "  \"age\": 25\n",
        "}\n",
        "\n",
        "\n",
        "#✅ Output (JSON response from Flask):\n",
        "\n",
        "{\n",
        "  \"message\": \"Received data for Alice, age 25.\"\n",
        "}\n",
        "\n",
        "\n"
      ],
      "metadata": {
        "colab": {
          "base_uri": "https://localhost:8080/"
        },
        "id": "_SuGle0LMJ0c",
        "outputId": "d51e1284-117a-4347-fe9e-6ec0435dc066"
      },
      "execution_count": 4,
      "outputs": [
        {
          "output_type": "stream",
          "name": "stdout",
          "text": [
            " * Serving Flask app '__main__'\n",
            " * Debug mode: on\n"
          ]
        },
        {
          "output_type": "stream",
          "name": "stderr",
          "text": [
            "INFO:werkzeug:\u001b[31m\u001b[1mWARNING: This is a development server. Do not use it in a production deployment. Use a production WSGI server instead.\u001b[0m\n",
            " * Running on http://127.0.0.1:5000\n",
            "INFO:werkzeug:\u001b[33mPress CTRL+C to quit\u001b[0m\n",
            "INFO:werkzeug: * Restarting with stat\n"
          ]
        },
        {
          "output_type": "execute_result",
          "data": {
            "text/plain": [
              "{'message': 'Received data for Alice, age 25.'}"
            ]
          },
          "metadata": {},
          "execution_count": 4
        }
      ]
    },
    {
      "cell_type": "markdown",
      "source": [
        "21.How would you secure a Flask API?\n",
        "  \n",
        " To secure a Flask API, you can use the following best practices:\n",
        "\n",
        "1. **Authentication & Authorization:**\n",
        "\n",
        "   * Use **token-based authentication** like JWT (JSON Web Tokens).\n",
        "   * Verify users before giving access to sensitive routes.\n",
        "\n",
        "2. **Input Validation:**\n",
        "\n",
        "   * Always validate and sanitize user inputs to prevent **SQL injection** and **XSS attacks**.\n",
        "\n",
        "3. **HTTPS:**\n",
        "\n",
        "   * Deploy your API with **SSL/TLS** enabled to encrypt data in transit.\n",
        "\n",
        "4. **Rate Limiting:**\n",
        "\n",
        "   * Limit the number of requests a user can make to prevent abuse (e.g., using Flask-Limiter).\n",
        "\n",
        "5. **Use Environment Variables:**\n",
        "\n",
        "   * Store secrets (e.g., API keys, database passwords) securely using environment variables.\n",
        "\n",
        "6. **Cross-Origin Resource Sharing (CORS):**\n",
        "\n",
        "   * Use `Flask-CORS` to control which domains are allowed to access your API.\n",
        "\n",
        "7. **Use Secure Headers:**\n",
        "\n",
        "   * Add HTTP security headers (like `Content-Security-Policy`, `X-Frame-Options`) using libraries like `Flask-Talisman`.\n",
        "\n",
        "8. **Keep Dependencies Updated:**\n",
        "\n",
        "   * Regularly update Flask and third-party libraries to avoid known vulnerabilities.\n",
        "\n",
        "---\n",
        "\n",
        "22. What is the significance of the Flask-RESTful extension?\n",
        "\n",
        "    Flask-RESTful helps organize your API code in a cleaner, more scalable way—perfect for building structured REST APIs.\n",
        "\n",
        "\n",
        "---\n",
        "23. What is the role of Flask’s session object?\n",
        "\n",
        " Flask’s session object helps keep track of user-specific information between page loads in a secure way.\n",
        "\n"
      ],
      "metadata": {
        "id": "Y0B3gHdnMrVY"
      }
    },
    {
      "cell_type": "markdown",
      "source": [
        "\n",
        "**✅ PRACTICAL QUESTIONS & OUTPUTS**\n",
        "---"
      ],
      "metadata": {
        "id": "ecPCa8iNN71K"
      }
    },
    {
      "cell_type": "markdown",
      "source": [
        "1. How do you create a basic Flask application?"
      ],
      "metadata": {
        "id": "N0IaL4f_ONc8"
      }
    },
    {
      "cell_type": "code",
      "source": [
        "!pip install Flask\n"
      ],
      "metadata": {
        "colab": {
          "base_uri": "https://localhost:8080/"
        },
        "id": "vy2ANaYTObKG",
        "outputId": "5b6ade70-39a7-48c9-9af2-15abbed6105c"
      },
      "execution_count": 5,
      "outputs": [
        {
          "output_type": "stream",
          "name": "stdout",
          "text": [
            "Requirement already satisfied: Flask in /usr/local/lib/python3.11/dist-packages (3.1.0)\n",
            "Requirement already satisfied: Werkzeug>=3.1 in /usr/local/lib/python3.11/dist-packages (from Flask) (3.1.3)\n",
            "Requirement already satisfied: Jinja2>=3.1.2 in /usr/local/lib/python3.11/dist-packages (from Flask) (3.1.6)\n",
            "Requirement already satisfied: itsdangerous>=2.2 in /usr/local/lib/python3.11/dist-packages (from Flask) (2.2.0)\n",
            "Requirement already satisfied: click>=8.1.3 in /usr/local/lib/python3.11/dist-packages (from Flask) (8.1.8)\n",
            "Requirement already satisfied: blinker>=1.9 in /usr/local/lib/python3.11/dist-packages (from Flask) (1.9.0)\n",
            "Requirement already satisfied: MarkupSafe>=2.0 in /usr/local/lib/python3.11/dist-packages (from Jinja2>=3.1.2->Flask) (3.0.2)\n"
          ]
        }
      ]
    },
    {
      "cell_type": "code",
      "source": [
        "from flask import Flask\n",
        "\n",
        "# Create the Flask app\n",
        "app = Flask(__name__)\n",
        "\n",
        "# Define a route\n",
        "@app.route('/')\n",
        "def home():\n",
        "    return \"Hello, Flask! This is a basic app.\"\n",
        "\n",
        "# Run the app\n",
        "if __name__ == '__main__':\n",
        "    app.run(debug=True)\n"
      ],
      "metadata": {
        "colab": {
          "base_uri": "https://localhost:8080/"
        },
        "id": "ePiuMLbFOd9Y",
        "outputId": "725c18a3-087e-43bd-f2e8-7edf6f92543a"
      },
      "execution_count": 7,
      "outputs": [
        {
          "metadata": {
            "tags": null
          },
          "name": "stdout",
          "output_type": "stream",
          "text": [
            " * Serving Flask app '__main__'\n",
            " * Debug mode: on\n"
          ]
        },
        {
          "metadata": {
            "tags": null
          },
          "name": "stderr",
          "output_type": "stream",
          "text": [
            "INFO:werkzeug:\u001b[31m\u001b[1mWARNING: This is a development server. Do not use it in a production deployment. Use a production WSGI server instead.\u001b[0m\n",
            " * Running on http://127.0.0.1:5000\n",
            "INFO:werkzeug:\u001b[33mPress CTRL+C to quit\u001b[0m\n",
            "INFO:werkzeug: * Restarting with stat\n"
          ]
        }
      ]
    },
    {
      "cell_type": "markdown",
      "source": [
        "2. How do you serve static files like images or CSS in Flask?\n",
        "\n",
        "  Static files inside a static folder and reference them in HTML:"
      ],
      "metadata": {
        "id": "LSQatTtSQ8t0"
      }
    },
    {
      "cell_type": "code",
      "source": [
        "<link rel=\"stylesheet\" href=\"{{ url_for('static', filename='styles.css') }}\">\n",
        "<img src=\"{{ url_for('static', filename='images/logo.png') }}\" alt=\"Logo\">\n"
      ],
      "metadata": {
        "id": "StRd6GtLRNYW"
      },
      "execution_count": null,
      "outputs": []
    },
    {
      "cell_type": "markdown",
      "source": [
        "3.  How do you define different routes with different HTTP methods in Flask?\n",
        "\n"
      ],
      "metadata": {
        "id": "ai8Vk3ZqRYDX"
      }
    },
    {
      "cell_type": "code",
      "source": [
        "@app.route('/data', methods=['GET', 'POST'])\n",
        "def handle_data():\n",
        "    if request.method == 'POST':\n",
        "        return \"Received POST request\"\n",
        "    return \"Received GET request\"\n"
      ],
      "metadata": {
        "id": "MPCeb9ZCReaC"
      },
      "execution_count": null,
      "outputs": []
    },
    {
      "cell_type": "markdown",
      "source": [
        "4. How do you render HTML templates in Flask?\n",
        "\n",
        "\n"
      ],
      "metadata": {
        "id": "AHkodIFqRjEx"
      }
    },
    {
      "cell_type": "code",
      "source": [
        "from flask import render_template\n",
        "\n",
        "@app.route('/home')\n",
        "def home():\n",
        "    return render_template('home.html')\n"
      ],
      "metadata": {
        "id": "p4iAnqlHRqNT"
      },
      "execution_count": null,
      "outputs": []
    },
    {
      "cell_type": "markdown",
      "source": [
        "5. How can you generate URLs for routes in Flask using url_for?\n",
        "\n",
        "\n",
        "\n"
      ],
      "metadata": {
        "id": "JhTtaIlvRrJJ"
      }
    },
    {
      "cell_type": "code",
      "source": [
        "from flask import url_for\n",
        "\n",
        "@app.route('/profile')\n",
        "def profile():\n",
        "    return f\"Profile page URL: {url_for('profile')}\"\n"
      ],
      "metadata": {
        "id": "u2nREqQmRydz"
      },
      "execution_count": null,
      "outputs": []
    },
    {
      "cell_type": "markdown",
      "source": [
        "6.  How do you handle forms in Flask?"
      ],
      "metadata": {
        "id": "3XwOc8OSRzQK"
      }
    },
    {
      "cell_type": "code",
      "source": [
        "@app.route('/submit', methods=['POST'])\n",
        "def submit():\n",
        "    name = request.form['name']\n",
        "    return f\"Hello, {name}!\"\n"
      ],
      "metadata": {
        "id": "6dSn9m7PR23c"
      },
      "execution_count": null,
      "outputs": []
    },
    {
      "cell_type": "markdown",
      "source": [
        "7. How can you validate form data in Flask?"
      ],
      "metadata": {
        "id": "uUkDnZi9R4_7"
      }
    },
    {
      "cell_type": "code",
      "source": [
        "!pip install flask-wtf\n"
      ],
      "metadata": {
        "id": "E_7UQaKvR70k"
      },
      "execution_count": null,
      "outputs": []
    },
    {
      "cell_type": "code",
      "source": [
        "from flask_wtf import FlaskForm\n",
        "from wtforms import StringField, SubmitField\n",
        "from wtforms.validators import DataRequired\n",
        "\n",
        "class MyForm(FlaskForm):\n",
        "    name = StringField('Name', validators=[DataRequired()])\n",
        "    submit = SubmitField('Submit')\n"
      ],
      "metadata": {
        "id": "mJECSXtRSQNH"
      },
      "execution_count": null,
      "outputs": []
    },
    {
      "cell_type": "markdown",
      "source": [
        "8.  How do you manage sessions in Flask?"
      ],
      "metadata": {
        "id": "xaHN4E_5SZQY"
      }
    },
    {
      "cell_type": "code",
      "source": [
        "from flask import Flask, session\n",
        "\n",
        "app = Flask(__name__)\n",
        "app.secret_key = 'supersecretkey'\n",
        "\n",
        "@app.route('/login')\n",
        "def login():\n",
        "    session['user'] = 'Amit'\n",
        "    return \"Logged in!\"\n",
        "\n",
        "@app.route('/logout')\n",
        "def logout():\n",
        "    session.pop('user', None)\n",
        "    return \"Logged out!\"\n",
        "\n",
        "if __name__ == '__main__':\n",
        "    app.run(debug=True)\n"
      ],
      "metadata": {
        "id": "243IUWbEScSw"
      },
      "execution_count": null,
      "outputs": []
    },
    {
      "cell_type": "markdown",
      "source": [
        "9.  How do you redirect to a different route in Flask?"
      ],
      "metadata": {
        "id": "1zvN6_2iSfQ4"
      }
    },
    {
      "cell_type": "code",
      "source": [
        "from flask import Flask, redirect, url_for\n",
        "\n",
        "app = Flask(__name__)\n",
        "\n",
        "@app.route('/go-home')\n",
        "def go_home():\n",
        "    return redirect(url_for('home'))\n",
        "\n",
        "@app.route('/home')\n",
        "def home():\n",
        "    return \"Welcome Home!\"\n",
        "\n",
        "if __name__ == '__main__':\n",
        "    app.run(debug=True)\n"
      ],
      "metadata": {
        "id": "m2BbxsSNSilh"
      },
      "execution_count": null,
      "outputs": []
    },
    {
      "cell_type": "markdown",
      "source": [
        "10.  How do you handle errors in Flask (e.g., 404)?"
      ],
      "metadata": {
        "id": "yRT342pdSnsx"
      }
    },
    {
      "cell_type": "code",
      "source": [
        "from flask import Flask\n",
        "\n",
        "app = Flask(__name__)\n",
        "\n",
        "@app.errorhandler(404)\n",
        "def not_found(e):\n",
        "    return \"Page not found!\", 404\n",
        "\n",
        "if __name__ == '__main__':\n",
        "    app.run(debug=True)\n"
      ],
      "metadata": {
        "id": "k0ut2Mf-SsIa"
      },
      "execution_count": null,
      "outputs": []
    },
    {
      "cell_type": "markdown",
      "source": [
        "11. How do you structure a Flask app using Blueprints?"
      ],
      "metadata": {
        "id": "UuGL8yQLSvAq"
      }
    },
    {
      "cell_type": "code",
      "source": [
        "#blueprint (api.py):\n",
        "\n",
        "from flask import Blueprint\n",
        "\n",
        "api = Blueprint('api', __name__)\n",
        "\n",
        "@api.route('/data')\n",
        "def data():\n",
        "    return \"API Data\"\n",
        "\n",
        "#Register it in app.py\n",
        "\n",
        "from flask import Flask\n",
        "from api import api\n",
        "\n",
        "app = Flask(__name__)\n",
        "app.register_blueprint(api, url_prefix='/api')\n",
        "\n",
        "if __name__ == '__main__':\n",
        "    app.run(debug=True)\n"
      ],
      "metadata": {
        "id": "mrIIKkH-SyI6"
      },
      "execution_count": null,
      "outputs": []
    },
    {
      "cell_type": "markdown",
      "source": [
        "12. How do you define a custom Jinja filter in Flask?"
      ],
      "metadata": {
        "id": "tUZ6ngj9S_G-"
      }
    },
    {
      "cell_type": "code",
      "source": [
        "@app.template_filter('reverse')\n",
        "def reverse_filter(s):\n",
        "    return s[::-1]\n"
      ],
      "metadata": {
        "id": "Ze8u1C4FTEF2"
      },
      "execution_count": null,
      "outputs": []
    },
    {
      "cell_type": "markdown",
      "source": [
        "13.  How can you redirect with query parameters in Flask?"
      ],
      "metadata": {
        "id": "WltVIwIVTE7V"
      }
    },
    {
      "cell_type": "code",
      "source": [
        "return redirect(url_for('profile', user='Amit'))\n"
      ],
      "metadata": {
        "id": "qelGnk4uTHsX"
      },
      "execution_count": null,
      "outputs": []
    },
    {
      "cell_type": "markdown",
      "source": [
        "14. How do you return JSON responses in Flask?"
      ],
      "metadata": {
        "id": "gDkuErpzTLku"
      }
    },
    {
      "cell_type": "code",
      "source": [
        "from flask import Flask, jsonify\n",
        "\n",
        "app = Flask(__name__)\n",
        "\n",
        "@app.route('/json')\n",
        "def json_example():\n",
        "    return jsonify({\"message\": \"Hello, JSON!\"})\n",
        "\n",
        "if __name__ == '__main__':\n",
        "    app.run(debug=True)\n"
      ],
      "metadata": {
        "id": "5ZRqvCONTOzP"
      },
      "execution_count": null,
      "outputs": []
    },
    {
      "cell_type": "markdown",
      "source": [
        "15.  How do you capture URL parameters in Flask?"
      ],
      "metadata": {
        "id": "9-8dTz0kTS6_"
      }
    },
    {
      "cell_type": "code",
      "source": [
        "@app.route('/user/<username>')\n",
        "def profile(username):\n",
        "    return f\"Hello, {username}!\"\n"
      ],
      "metadata": {
        "id": "Q65cw-VgTWOY"
      },
      "execution_count": null,
      "outputs": []
    }
  ]
}